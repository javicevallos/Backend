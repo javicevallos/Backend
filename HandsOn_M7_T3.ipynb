{
  "nbformat": 4,
  "nbformat_minor": 0,
  "metadata": {
    "colab": {
      "name": "HandsOn_M7-T3.ipynb",
      "provenance": [],
      "collapsed_sections": [],
      "include_colab_link": true
    },
    "kernelspec": {
      "name": "python3",
      "display_name": "Python 3"
    },
    "language_info": {
      "name": "python"
    }
  },
  "cells": [
    {
      "cell_type": "markdown",
      "metadata": {
        "id": "view-in-github",
        "colab_type": "text"
      },
      "source": [
        "<a href=\"https://colab.research.google.com/github/javicevallos/Backend/blob/master/HandsOn_M7_T3.ipynb\" target=\"_parent\"><img src=\"https://colab.research.google.com/assets/colab-badge.svg\" alt=\"Open In Colab\"/></a>"
      ]
    },
    {
      "cell_type": "markdown",
      "source": [
        "# **Hands-On: Machine Learning con Apache Spark ML**"
      ],
      "metadata": {
        "id": "WpR6N4_18eh8"
      }
    },
    {
      "cell_type": "markdown",
      "source": [
        "## Objetivos"
      ],
      "metadata": {
        "id": "MjhV_wdk8oA8"
      }
    },
    {
      "cell_type": "markdown",
      "source": [
        "* Importar las bibliotecas de estadísticas y Spark ML\n",
        "* Realizar operaciones estadísticas básicas con Spark\n",
        "* Crear un modelo de regresión lineal simple con Spark ML\n",
        "* Entrenar el modelo y realizar la evaluación."
      ],
      "metadata": {
        "id": "iPJkyuS78pIf"
      }
    },
    {
      "cell_type": "markdown",
      "source": [
        "\n",
        "##  Configuración"
      ],
      "metadata": {
        "id": "xKRbkpuS85k7"
      }
    },
    {
      "cell_type": "code",
      "source": [
        "# Instalando los paquetes requeridos\n",
        "!pip install pyspark\n",
        "!pip install findspark"
      ],
      "metadata": {
        "id": "_GDjRxJ_9A4Z",
        "colab": {
          "base_uri": "https://localhost:8080/"
        },
        "outputId": "73b3c2a2-a096-4e79-d077-c2a80e9c1716"
      },
      "execution_count": 1,
      "outputs": [
        {
          "output_type": "stream",
          "name": "stdout",
          "text": [
            "Collecting pyspark\n",
            "  Downloading pyspark-3.2.1.tar.gz (281.4 MB)\n",
            "\u001b[K     |████████████████████████████████| 281.4 MB 26 kB/s \n",
            "\u001b[?25hCollecting py4j==0.10.9.3\n",
            "  Downloading py4j-0.10.9.3-py2.py3-none-any.whl (198 kB)\n",
            "\u001b[K     |████████████████████████████████| 198 kB 46.7 MB/s \n",
            "\u001b[?25hBuilding wheels for collected packages: pyspark\n",
            "  Building wheel for pyspark (setup.py) ... \u001b[?25l\u001b[?25hdone\n",
            "  Created wheel for pyspark: filename=pyspark-3.2.1-py2.py3-none-any.whl size=281853642 sha256=353b2c60ff4ce4fe0d2d5f73373df017b663b4b2275ddda5ca7d3c2209938c6d\n",
            "  Stored in directory: /root/.cache/pip/wheels/9f/f5/07/7cd8017084dce4e93e84e92efd1e1d5334db05f2e83bcef74f\n",
            "Successfully built pyspark\n",
            "Installing collected packages: py4j, pyspark\n",
            "Successfully installed py4j-0.10.9.3 pyspark-3.2.1\n",
            "Collecting findspark\n",
            "  Downloading findspark-2.0.1-py2.py3-none-any.whl (4.4 kB)\n",
            "Installing collected packages: findspark\n",
            "Successfully installed findspark-2.0.1\n"
          ]
        }
      ]
    },
    {
      "cell_type": "code",
      "source": [
        "# Pandas es un paquete popular de Python para Data Science. Usaremos Pandas para interactuar con archivos CSV\n",
        "import pandas as pd\n",
        "import matplotlib.pyplot as plt\n",
        "# PySpark es la libreria que usa llamadas API para Python. PySpark se usa para inicializar el contexto de Spark\n",
        "from pyspark import SparkContext, SparkConf\n",
        "from pyspark.sql import SparkSession"
      ],
      "metadata": {
        "id": "cDyWcQJu86Fz"
      },
      "execution_count": 2,
      "outputs": []
    },
    {
      "cell_type": "markdown",
      "source": [
        "## Actividad 1: Sesión de Spark y librerías de ML\n",
        "\n",
        "En este ejercicio, creará e inicializará la sesión de Spark necesaria para cargar los marcos de datos y operar en ellos."
      ],
      "metadata": {
        "id": "29BeHbg-9QLi"
      }
    },
    {
      "cell_type": "code",
      "source": [
        "# Creating a spark context class\n",
        "sc = SparkContext()\n",
        "\n",
        "# Creating a spark session\n",
        "spark = SparkSession \\\n",
        "    .builder \\\n",
        "    .appName(\"Python Spark DataFrames basic example\") \\\n",
        "    .config(\"spark.some.config.option\", \"some-value\") \\\n",
        "    .getOrCreate()"
      ],
      "metadata": {
        "id": "EAfr6UZH9ae0"
      },
      "execution_count": 3,
      "outputs": []
    },
    {
      "cell_type": "code",
      "source": [
        "# Verificando la información de la sesión\n",
        "spark"
      ],
      "metadata": {
        "id": "rfdHrBnJ9zjY",
        "colab": {
          "base_uri": "https://localhost:8080/",
          "height": 221
        },
        "outputId": "7b264796-3fc8-4426-ae85-71a3d124df02"
      },
      "execution_count": 4,
      "outputs": [
        {
          "output_type": "execute_result",
          "data": {
            "text/plain": [
              "<pyspark.sql.session.SparkSession at 0x7fa77e6ae850>"
            ],
            "text/html": [
              "\n",
              "            <div>\n",
              "                <p><b>SparkSession - in-memory</b></p>\n",
              "                \n",
              "        <div>\n",
              "            <p><b>SparkContext</b></p>\n",
              "\n",
              "            <p><a href=\"http://c8d11e08c22e:4040\">Spark UI</a></p>\n",
              "\n",
              "            <dl>\n",
              "              <dt>Version</dt>\n",
              "                <dd><code>v3.2.1</code></dd>\n",
              "              <dt>Master</dt>\n",
              "                <dd><code>local[*]</code></dd>\n",
              "              <dt>AppName</dt>\n",
              "                <dd><code>pyspark-shell</code></dd>\n",
              "            </dl>\n",
              "        </div>\n",
              "        \n",
              "            </div>\n",
              "        "
            ]
          },
          "metadata": {},
          "execution_count": 4
        }
      ]
    },
    {
      "cell_type": "markdown",
      "source": [
        "Ahora importará 4 funciones de 4 librerías de SparkML\n",
        "\n",
        "1.   VectorAssembler(): esta función se utiliza para crear vectores de funciones a partir de dataframes/datos sin procesar. Estos vectores de características son necesarios para entrenar un modelo ML o realizar cualquier operación estadística.\n",
        "\n",
        "2. Correlación (): esta función es de la biblioteca de estadísticas dentro de SparkML. Esta función se utiliza para calcular la correlación entre vectores de características.\n",
        "\n",
        "3.   Normalized(): Esta función se utiliza para normalizar características. La normalización de las funciones conduce a una mejor convergencia del modelo de ML y resultados de entrenamiento.\n",
        "\n",
        "4.  LinearRegression(): esta función se utiliza para crear un modelo de regresión lineal y entrenarlo. "
      ],
      "metadata": {
        "id": "sIbnlGnL963P"
      }
    },
    {
      "cell_type": "code",
      "source": [
        "from pyspark.ml.feature import VectorAssembler, Normalizer, StandardScaler\n",
        "from pyspark.ml.stat import Correlation\n",
        "from pyspark.ml.regression import LinearRegression"
      ],
      "metadata": {
        "id": "AACbMmpD-Vgp"
      },
      "execution_count": 5,
      "outputs": []
    },
    {
      "cell_type": "markdown",
      "source": [
        "## Actividad 2: Cargando Datos y creando vectores de características\n",
        "\n",
        "Pandas es una biblioteca utilizada para la manipulación y el análisis de datos. Pandas ofrece estructuras de datos y operaciones para crear y manipular objetos Data Series y DataFrame. Los datos se pueden importar desde varias fuentes de datos, por ejemplo, matrices Numpy, diccionarios de Python y archivos CSV. Pandas le permite manipular, organizar y mostrar los datos.\n",
        "\n",
        "En este ejemplo, usamos un conjunto de datos que contiene información sobre automóviles.\n"
      ],
      "metadata": {
        "id": "K2hQI0Fi-hS-"
      }
    },
    {
      "cell_type": "code",
      "source": [
        "#Usamos ahorla función `createDataFrame` para cargar los datos en un dataframe de Spark\n",
        "sdf = spark.createDataFrame(cars2)"
      ],
      "metadata": {
        "id": "kTpc013J_suN"
      },
      "execution_count": 7,
      "outputs": []
    },
    {
      "cell_type": "code",
      "source": [
        "#Descargamos el archivo cars2.csv que contiene datos de características de autos: mpg (millas por galón), hp (potencia - caballos de fuerza), y weight (peso)\n",
        "cars2 = pd.read_csv('https://dl.dropboxusercontent.com/s/disr9eav3l9y13w/cars2.csv?dl=0 ', header=None, names=[\"mpg\", \"hp\", \"weight\"])\n",
        "cars2.head()\n"
      ],
      "metadata": {
        "id": "FIhTwLUP_C8A",
        "colab": {
          "base_uri": "https://localhost:8080/",
          "height": 206
        },
        "outputId": "b50a6814-5d42-4a8c-e942-a4461aed1d53"
      },
      "execution_count": 31,
      "outputs": [
        {
          "output_type": "execute_result",
          "data": {
            "text/plain": [
              "    mpg     hp  weight\n",
              "0  18.0  130.0  3504.0\n",
              "1  15.0  165.0  3693.0\n",
              "2  18.0  150.0  3436.0\n",
              "3  16.0  150.0  3433.0\n",
              "4  17.0  140.0  3449.0"
            ],
            "text/html": [
              "\n",
              "  <div id=\"df-c1c86268-c94b-4d65-b27a-1611f96cb3bb\">\n",
              "    <div class=\"colab-df-container\">\n",
              "      <div>\n",
              "<style scoped>\n",
              "    .dataframe tbody tr th:only-of-type {\n",
              "        vertical-align: middle;\n",
              "    }\n",
              "\n",
              "    .dataframe tbody tr th {\n",
              "        vertical-align: top;\n",
              "    }\n",
              "\n",
              "    .dataframe thead th {\n",
              "        text-align: right;\n",
              "    }\n",
              "</style>\n",
              "<table border=\"1\" class=\"dataframe\">\n",
              "  <thead>\n",
              "    <tr style=\"text-align: right;\">\n",
              "      <th></th>\n",
              "      <th>mpg</th>\n",
              "      <th>hp</th>\n",
              "      <th>weight</th>\n",
              "    </tr>\n",
              "  </thead>\n",
              "  <tbody>\n",
              "    <tr>\n",
              "      <th>0</th>\n",
              "      <td>18.0</td>\n",
              "      <td>130.0</td>\n",
              "      <td>3504.0</td>\n",
              "    </tr>\n",
              "    <tr>\n",
              "      <th>1</th>\n",
              "      <td>15.0</td>\n",
              "      <td>165.0</td>\n",
              "      <td>3693.0</td>\n",
              "    </tr>\n",
              "    <tr>\n",
              "      <th>2</th>\n",
              "      <td>18.0</td>\n",
              "      <td>150.0</td>\n",
              "      <td>3436.0</td>\n",
              "    </tr>\n",
              "    <tr>\n",
              "      <th>3</th>\n",
              "      <td>16.0</td>\n",
              "      <td>150.0</td>\n",
              "      <td>3433.0</td>\n",
              "    </tr>\n",
              "    <tr>\n",
              "      <th>4</th>\n",
              "      <td>17.0</td>\n",
              "      <td>140.0</td>\n",
              "      <td>3449.0</td>\n",
              "    </tr>\n",
              "  </tbody>\n",
              "</table>\n",
              "</div>\n",
              "      <button class=\"colab-df-convert\" onclick=\"convertToInteractive('df-c1c86268-c94b-4d65-b27a-1611f96cb3bb')\"\n",
              "              title=\"Convert this dataframe to an interactive table.\"\n",
              "              style=\"display:none;\">\n",
              "        \n",
              "  <svg xmlns=\"http://www.w3.org/2000/svg\" height=\"24px\"viewBox=\"0 0 24 24\"\n",
              "       width=\"24px\">\n",
              "    <path d=\"M0 0h24v24H0V0z\" fill=\"none\"/>\n",
              "    <path d=\"M18.56 5.44l.94 2.06.94-2.06 2.06-.94-2.06-.94-.94-2.06-.94 2.06-2.06.94zm-11 1L8.5 8.5l.94-2.06 2.06-.94-2.06-.94L8.5 2.5l-.94 2.06-2.06.94zm10 10l.94 2.06.94-2.06 2.06-.94-2.06-.94-.94-2.06-.94 2.06-2.06.94z\"/><path d=\"M17.41 7.96l-1.37-1.37c-.4-.4-.92-.59-1.43-.59-.52 0-1.04.2-1.43.59L10.3 9.45l-7.72 7.72c-.78.78-.78 2.05 0 2.83L4 21.41c.39.39.9.59 1.41.59.51 0 1.02-.2 1.41-.59l7.78-7.78 2.81-2.81c.8-.78.8-2.07 0-2.86zM5.41 20L4 18.59l7.72-7.72 1.47 1.35L5.41 20z\"/>\n",
              "  </svg>\n",
              "      </button>\n",
              "      \n",
              "  <style>\n",
              "    .colab-df-container {\n",
              "      display:flex;\n",
              "      flex-wrap:wrap;\n",
              "      gap: 12px;\n",
              "    }\n",
              "\n",
              "    .colab-df-convert {\n",
              "      background-color: #E8F0FE;\n",
              "      border: none;\n",
              "      border-radius: 50%;\n",
              "      cursor: pointer;\n",
              "      display: none;\n",
              "      fill: #1967D2;\n",
              "      height: 32px;\n",
              "      padding: 0 0 0 0;\n",
              "      width: 32px;\n",
              "    }\n",
              "\n",
              "    .colab-df-convert:hover {\n",
              "      background-color: #E2EBFA;\n",
              "      box-shadow: 0px 1px 2px rgba(60, 64, 67, 0.3), 0px 1px 3px 1px rgba(60, 64, 67, 0.15);\n",
              "      fill: #174EA6;\n",
              "    }\n",
              "\n",
              "    [theme=dark] .colab-df-convert {\n",
              "      background-color: #3B4455;\n",
              "      fill: #D2E3FC;\n",
              "    }\n",
              "\n",
              "    [theme=dark] .colab-df-convert:hover {\n",
              "      background-color: #434B5C;\n",
              "      box-shadow: 0px 1px 3px 1px rgba(0, 0, 0, 0.15);\n",
              "      filter: drop-shadow(0px 1px 2px rgba(0, 0, 0, 0.3));\n",
              "      fill: #FFFFFF;\n",
              "    }\n",
              "  </style>\n",
              "\n",
              "      <script>\n",
              "        const buttonEl =\n",
              "          document.querySelector('#df-c1c86268-c94b-4d65-b27a-1611f96cb3bb button.colab-df-convert');\n",
              "        buttonEl.style.display =\n",
              "          google.colab.kernel.accessAllowed ? 'block' : 'none';\n",
              "\n",
              "        async function convertToInteractive(key) {\n",
              "          const element = document.querySelector('#df-c1c86268-c94b-4d65-b27a-1611f96cb3bb');\n",
              "          const dataTable =\n",
              "            await google.colab.kernel.invokeFunction('convertToInteractive',\n",
              "                                                     [key], {});\n",
              "          if (!dataTable) return;\n",
              "\n",
              "          const docLinkHtml = 'Like what you see? Visit the ' +\n",
              "            '<a target=\"_blank\" href=https://colab.research.google.com/notebooks/data_table.ipynb>data table notebook</a>'\n",
              "            + ' to learn more about interactive tables.';\n",
              "          element.innerHTML = '';\n",
              "          dataTable['output_type'] = 'display_data';\n",
              "          await google.colab.output.renderOutput(dataTable, element);\n",
              "          const docLink = document.createElement('div');\n",
              "          docLink.innerHTML = docLinkHtml;\n",
              "          element.appendChild(docLink);\n",
              "        }\n",
              "      </script>\n",
              "    </div>\n",
              "  </div>\n",
              "  "
            ]
          },
          "metadata": {},
          "execution_count": 31
        }
      ]
    },
    {
      "cell_type": "code",
      "source": [
        "# Imprimiendo el esquema\n",
        "sdf.printSchema()"
      ],
      "metadata": {
        "id": "1j_-38gn_2sZ",
        "colab": {
          "base_uri": "https://localhost:8080/"
        },
        "outputId": "9c98a899-3f98-449e-92e0-8a47f7d9968d"
      },
      "execution_count": 8,
      "outputs": [
        {
          "output_type": "stream",
          "name": "stdout",
          "text": [
            "root\n",
            " |-- mpg: double (nullable = true)\n",
            " |-- hp: double (nullable = true)\n",
            " |-- weight: double (nullable = true)\n",
            "\n"
          ]
        }
      ]
    },
    {
      "cell_type": "markdown",
      "source": [
        "En esta parte, usamos la función VectorAssembler() para convertir las columnas del dataframe de Spark en vectores de características. Para nuestro ejemplo, usamos la potencia (\"hp\") y el peso del automóvil como características de entrada y las millas por galón (\"mpg\") como etiquetas objetivo."
      ],
      "metadata": {
        "id": "zA2xC1Ye_7si"
      }
    },
    {
      "cell_type": "code",
      "source": [
        "assembler = VectorAssembler(\n",
        "    inputCols=[\"hp\", \"weight\"],\n",
        "    outputCol=\"features\")\n",
        "\n",
        "output = assembler.transform(sdf).select('features','mpg')"
      ],
      "metadata": {
        "id": "skKqMdfW_2l3"
      },
      "execution_count": 9,
      "outputs": []
    },
    {
      "cell_type": "markdown",
      "source": [
        "Ahora dividiremos el set de datos en un conjunto para entramiento (traning) y otro para pruebas (testing)"
      ],
      "metadata": {
        "id": "O69scAE8AIsj"
      }
    },
    {
      "cell_type": "code",
      "source": [
        "train, test = output.randomSplit([0.75, 0.25])"
      ],
      "metadata": {
        "id": "G1UlRN-2AIRf"
      },
      "execution_count": 10,
      "outputs": []
    },
    {
      "cell_type": "markdown",
      "source": [
        "## Actividad 3: Estadísticas básicas e ingeniería de características\n",
        "\n",
        "En esta actividad, determinamos la correlación entre vectores de características y normalizamos las características."
      ],
      "metadata": {
        "id": "D0-Z4beiAUZ0"
      }
    },
    {
      "cell_type": "markdown",
      "source": [
        "### Correlación\n",
        "Spark ML tiene una función de correlación incorporada como parte de la biblioteca Stat. Usamos la función de correlación para determinar los diferentes tipos de correlación entre las 2 características: \"hp\" y \"peso\"."
      ],
      "metadata": {
        "id": "K4dKUN5AAfpV"
      }
    },
    {
      "cell_type": "code",
      "source": [
        "r1 = Correlation.corr(train, \"features\").head()\n",
        "print(\"Pearson correlation matrix:\\n\" + str(r1[0]))"
      ],
      "metadata": {
        "id": "87ypa_e3Al6A",
        "colab": {
          "base_uri": "https://localhost:8080/"
        },
        "outputId": "e0b7a052-5e0b-422e-f8c4-b32449fad52a"
      },
      "execution_count": 11,
      "outputs": [
        {
          "output_type": "stream",
          "name": "stderr",
          "text": [
            "/usr/local/lib/python3.7/dist-packages/pyspark/sql/context.py:127: FutureWarning: Deprecated in 3.0.0. Use SparkSession.builder.getOrCreate() instead.\n",
            "  FutureWarning\n"
          ]
        },
        {
          "output_type": "stream",
          "name": "stdout",
          "text": [
            "Pearson correlation matrix:\n",
            "DenseMatrix([[1.        , 0.85670103],\n",
            "             [0.85670103, 1.        ]])\n"
          ]
        }
      ]
    },
    {
      "cell_type": "code",
      "source": [
        "r2 = Correlation.corr(train, \"features\", \"spearman\").head()\n",
        "print(\"Spearman correlation matrix:\\n\" + str(r2[0]))"
      ],
      "metadata": {
        "id": "GVoaVjp0ApgY",
        "colab": {
          "base_uri": "https://localhost:8080/"
        },
        "outputId": "b43bca4e-0cb4-4be7-a914-af3c53a0347d"
      },
      "execution_count": 12,
      "outputs": [
        {
          "output_type": "stream",
          "name": "stdout",
          "text": [
            "Spearman correlation matrix:\n",
            "DenseMatrix([[1.        , 0.87529373],\n",
            "             [0.87529373, 1.        ]])\n"
          ]
        },
        {
          "output_type": "stream",
          "name": "stderr",
          "text": [
            "/usr/local/lib/python3.7/dist-packages/pyspark/sql/context.py:127: FutureWarning: Deprecated in 3.0.0. Use SparkSession.builder.getOrCreate() instead.\n",
            "  FutureWarning\n"
          ]
        }
      ]
    },
    {
      "cell_type": "markdown",
      "source": [
        "Podemos ver que hay una correlación de 0.86 (o 86%) entre las características. Eso es lógico ya que un automóvil con mayor potencia probablemente tenga un motor más grande y, por lo tanto, pese más. También podemos visualizar los vectores de características para ver que realmente están correlacionados."
      ],
      "metadata": {
        "id": "Rej-Td39Auc4"
      }
    },
    {
      "cell_type": "code",
      "source": [
        "plt.figure()\n",
        "plt.scatter(cars2[\"hp\"], cars2[\"weight\"])\n",
        "plt.xlabel(\"horsepower\")\n",
        "plt.ylabel(\"weight\")\n",
        "plt.title(\"Correlation between Horsepower and Weight\")\n",
        "plt.show()"
      ],
      "metadata": {
        "id": "CXf0zgPGAxPN",
        "colab": {
          "base_uri": "https://localhost:8080/",
          "height": 295
        },
        "outputId": "85a2c562-bab3-4b20-ec0b-a233c86b7c16"
      },
      "execution_count": 22,
      "outputs": [
        {
          "output_type": "display_data",
          "data": {
            "text/plain": [
              "<Figure size 432x288 with 1 Axes>"
            ],
            "image/png": "[encoded data removed]"
          },
          "metadata": {
            "needs_background": "light"
          }
        }
      ]
    },
    {
      "cell_type": "markdown",
      "source": [
        "### Normalización\n",
        "Para un mejor entrenamiento y convergencia del modelo, es una buena práctica normalizar los vectores de características."
      ],
      "metadata": {
        "id": "SA08sGpEA0lf"
      }
    },
    {
      "cell_type": "code",
      "source": [
        "normalizer = Normalizer(inputCol=\"features\", outputCol=\"features_normalized\", p=1.0)\n",
        "train_norm = normalizer.transform(train)\n",
        "print(\"Normalized using L^1 norm\")\n",
        "train_norm.show(5, truncate=False)"
      ],
      "metadata": {
        "id": "WDXiVo7VA7aG",
        "colab": {
          "base_uri": "https://localhost:8080/"
        },
        "outputId": "89697fd5-b4d6-4dbb-ee85-c79a39d4dd13"
      },
      "execution_count": 14,
      "outputs": [
        {
          "output_type": "stream",
          "name": "stdout",
          "text": [
            "Normalized using L^1 norm\n",
            "+-------------+----+-----------------------------------------+\n",
            "|features     |mpg |features_normalized                      |\n",
            "+-------------+----+-----------------------------------------+\n",
            "|[46.0,1835.0]|26.0|[0.024455077086656035,0.9755449229133439]|\n",
            "|[52.0,2035.0]|29.0|[0.024916147580258743,0.9750838524197413]|\n",
            "|[60.0,2164.0]|24.5|[0.02697841726618705,0.9730215827338129] |\n",
            "|[61.0,2003.0]|32.0|[0.029554263565891473,0.9704457364341085]|\n",
            "|[65.0,1773.0]|31.0|[0.03536452665941241,0.9646354733405876] |\n",
            "+-------------+----+-----------------------------------------+\n",
            "only showing top 5 rows\n",
            "\n"
          ]
        }
      ]
    },
    {
      "cell_type": "markdown",
      "source": [
        "Escalado estándar\n",
        "Esta es una práctica estándar para escalar las características de modo que todas las columnas de las características tengan una media cero y una varianza unitaria."
      ],
      "metadata": {
        "id": "gEb3nBb5A-hl"
      }
    },
    {
      "cell_type": "code",
      "source": [
        "standard_scaler = StandardScaler(inputCol=\"features\", outputCol=\"features_scaled\")\n",
        "train_model = standard_scaler.fit(train)\n",
        "train_scaled = train_model.transform(train)\n",
        "train_scaled.show(5, truncate=False)"
      ],
      "metadata": {
        "id": "8DXwmaugBCKp",
        "colab": {
          "base_uri": "https://localhost:8080/"
        },
        "outputId": "8dc3e7a5-5066-4196-b8c4-31be887599b5"
      },
      "execution_count": 15,
      "outputs": [
        {
          "output_type": "stream",
          "name": "stdout",
          "text": [
            "+-------------+----+---------------------------------------+\n",
            "|features     |mpg |features_scaled                        |\n",
            "+-------------+----+---------------------------------------+\n",
            "|[46.0,1835.0]|26.0|[1.213777801490797,2.151542079789483]  |\n",
            "|[52.0,2035.0]|29.0|[1.3720966451635097,2.3860425789491]   |\n",
            "|[60.0,2164.0]|24.5|[1.5831884367271265,2.5372954009070527]|\n",
            "|[61.0,2003.0]|32.0|[1.6095749106725787,2.348522499083561] |\n",
            "|[65.0,1773.0]|31.0|[1.715120806454387,2.078846925050002]  |\n",
            "+-------------+----+---------------------------------------+\n",
            "only showing top 5 rows\n",
            "\n"
          ]
        }
      ]
    },
    {
      "cell_type": "code",
      "source": [
        "test_scaled = train_model.transform(test)\n",
        "test_scaled.show(5, truncate=False)"
      ],
      "metadata": {
        "id": "mZQCO6gqBEQD",
        "colab": {
          "base_uri": "https://localhost:8080/"
        },
        "outputId": "54ac3ed3-a057-4d4c-ab53-869009e058f2"
      },
      "execution_count": 16,
      "outputs": [
        {
          "output_type": "stream",
          "name": "stdout",
          "text": [
            "+-------------+----+---------------------------------------+\n",
            "|features     |mpg |features_scaled                        |\n",
            "+-------------+----+---------------------------------------+\n",
            "|[46.0,1950.0]|26.0|[1.213777801490797,2.286379866806263]  |\n",
            "|[49.0,1867.0]|29.0|[1.2929372233271534,2.189062159655022] |\n",
            "|[52.0,1649.0]|31.0|[1.3720966451635097,1.9334566155710398]|\n",
            "|[53.0,1795.0]|33.0|[1.3984831191089617,2.10464197995756]  |\n",
            "|[54.0,2254.0]|23.0|[1.424869593054414,2.64282062552888]   |\n",
            "+-------------+----+---------------------------------------+\n",
            "only showing top 5 rows\n",
            "\n"
          ]
        }
      ]
    },
    {
      "cell_type": "markdown",
      "source": [
        "## Actividad 4: Construcción y entrenamiento de un modelo de regresión lineal\n",
        "En este ejercicio, entrenamos un modelo de regresión lineal lrModel en nuestro conjunto de datos de entrenamiento. Entrenamos el modelo en la versión escalada estándar de características. También imprimimos las métricas finales de RMSE y R-Squared."
      ],
      "metadata": {
        "id": "n9CPGrRIBGdv"
      }
    },
    {
      "cell_type": "code",
      "source": [
        "# Creando un modelo de regresión\n",
        "lr = LinearRegression(featuresCol='features_scaled', labelCol='mpg', maxIter=100)\n",
        "\n",
        "# Fitting\n",
        "lrModel = lr.fit(train_scaled)\n",
        "\n",
        "# Coeficientes e interceptos de la regresión lineal\n",
        "print(\"Coefficients: %s\" % str(lrModel.coefficients))\n",
        "print(\"Intercept: %s\" % str(lrModel.intercept))\n",
        "\n",
        "# Sumarizando el modelo e imprimiendo algunas métricas\n",
        "trainingSummary = lrModel.summary\n",
        "#trainingSummary.residuals.show()\n",
        "print(\"RMSE: %f\" % trainingSummary.rootMeanSquaredError)\n",
        "print(\"R-squared: %f\" % trainingSummary.r2)"
      ],
      "metadata": {
        "id": "xaTOpcZzBRq1",
        "colab": {
          "base_uri": "https://localhost:8080/"
        },
        "outputId": "288a523f-ee79-46e7-c5d4-7c584b82411e"
      },
      "execution_count": 17,
      "outputs": [
        {
          "output_type": "stream",
          "name": "stdout",
          "text": [
            "Coefficients: [-2.2368230006075667,-4.815103456715116]\n",
            "Intercept: 46.70336860578772\n",
            "RMSE: 4.394181\n",
            "R-squared: 0.706492\n"
          ]
        }
      ]
    },
    {
      "cell_type": "markdown",
      "source": [
        "###Pregunta 1: ¿Que son los coeficientes e interceptos de la regresión lineal?\n",
        "\n",
        "### Pregunta 2: ¿Qué indican las métricas Root Mean Squared Error y R-Squared?"
      ],
      "metadata": {
        "id": "lzrsSEMXB0ak"
      }
    },
    {
      "cell_type": "markdown",
      "source": [
        "P1\n",
        "El intercepto en un modelo de regresión representa el valor medio de la variable de respuesta cuando todas las variables predictoras del modelo son iguales a cero.\n",
        "\n",
        "P2\n",
        "RMSE es una forma útil de ver qué tan bien un modelo de regresión puede ajustarse a un conjunto de datos.\n",
        "Cuanto mayor sea el RMSE, mayor será la diferencia entre los valores predichos y observados, lo que significa que peor se ajusta un modelo de regresión a los datos. Por el contrario, cuanto más pequeño sea el RMSE, mejor podrá un modelo ajustar los datos.\n",
        "\n",
        "R2 es la mejor métrica. El valor alrededor de 0.4-0.5 es bueno. R-Squared es simplemente la fracción de la varianza de respuesta que es capturada por el modelo. Si R-Squared = 1, significa que el modelo se ajusta perfectamente a los datos. \n",
        "\n",
        "\n",
        "Como se observa que el  RMSE: 4.394181, es bajo podríamos deducir que el modelo se ajusta al conjunto de datos en estudio.\n",
        "\n",
        "En el r cuadrado observamos que es alto con R-squared: 0.706492, nos ayuda a deducir que el modelo es bueno \n",
        "En muchos casos estas métricas se las deben evaluar gráficamente y con otros datos estadísticos para llegar a una conclusión idónea.\n",
        "\n"
      ],
      "metadata": {
        "id": "q7TLY4b0CGqE"
      }
    },
    {
      "cell_type": "markdown",
      "source": [
        "#### Predecir con nuevos datos\n",
        "\n",
        "Una vez que se entrena un modelo, podemos `transform()` nuevos datos no vistos (por ejemplo, los datos de prueba) para generar predicciones.\n",
        "En la celda a continuación, observe la columna de \"predicción\" que contiene el \"mpg\" previsto."
      ],
      "metadata": {
        "id": "MJql8jrGCMPw"
      }
    },
    {
      "cell_type": "code",
      "source": [
        "lrModel.transform(test_scaled).show(5)"
      ],
      "metadata": {
        "id": "neBKeZiACZ_x",
        "colab": {
          "base_uri": "https://localhost:8080/"
        },
        "outputId": "5420aa1c-5964-46d9-ba56-b178fa339505"
      },
      "execution_count": 18,
      "outputs": [
        {
          "output_type": "stream",
          "name": "stdout",
          "text": [
            "+-------------+----+--------------------+------------------+\n",
            "|     features| mpg|     features_scaled|        prediction|\n",
            "+-------------+----+--------------------+------------------+\n",
            "|[46.0,1950.0]|26.0|[1.21377780149079...| 32.97920690176354|\n",
            "|[49.0,1867.0]|29.0|[1.29293722332715...| 33.27073611438871|\n",
            "|[52.0,1649.0]|31.0|[1.37209664516350...| 34.32443763778468|\n",
            "|[53.0,1795.0]|33.0|[1.39848311910896...|33.441140526161995|\n",
            "|[54.0,2254.0]|23.0|[1.42486959305441...| 30.79073279771515|\n",
            "+-------------+----+--------------------+------------------+\n",
            "only showing top 5 rows\n",
            "\n"
          ]
        }
      ]
    },
    {
      "cell_type": "markdown",
      "source": [
        "# Hands-on:  \n",
        "\n",
        " Imprima la matriz de correlación para la división del conjunto de datos de prueba que creamos anteriormente."
      ],
      "metadata": {
        "id": "CUpAldCQIA3J"
      }
    },
    {
      "cell_type": "code",
      "source": [
        "# Escriba su respuesta aquí\n",
        "\n"
      ],
      "metadata": {
        "id": "tQt5DArXIO_q"
      },
      "execution_count": 19,
      "outputs": []
    },
    {
      "cell_type": "code",
      "source": [
        "r11 = Correlation.corr(test, \"features\").head()\n",
        "print(\"Pearson correlation matrix:\\n\" + str(r1[0]))"
      ],
      "metadata": {
        "colab": {
          "base_uri": "https://localhost:8080/"
        },
        "outputId": "f3125e4b-000a-46aa-b2b3-bef4bdcb004a",
        "id": "RL2qmS7NRPTB"
      },
      "execution_count": 52,
      "outputs": [
        {
          "output_type": "stream",
          "name": "stdout",
          "text": [
            "Pearson correlation matrix:\n",
            "DenseMatrix([[1.        , 0.88599215],\n",
            "             [0.88599215, 1.        ]])\n"
          ]
        },
        {
          "output_type": "stream",
          "name": "stderr",
          "text": [
            "/usr/local/lib/python3.7/dist-packages/pyspark/sql/context.py:127: FutureWarning: Deprecated in 3.0.0. Use SparkSession.builder.getOrCreate() instead.\n",
            "  FutureWarning\n"
          ]
        }
      ]
    },
    {
      "cell_type": "code",
      "source": [
        "r21 = Correlation.corr(test, \"features\", \"spearman\").head()\n",
        "print(\"Spearman correlation matrix:\\n\" + str(r2[0]))"
      ],
      "metadata": {
        "colab": {
          "base_uri": "https://localhost:8080/"
        },
        "id": "bVb9cJGRTZZK",
        "outputId": "b5f62cad-a0ee-4519-a061-d81326a91267"
      },
      "execution_count": 46,
      "outputs": [
        {
          "output_type": "stream",
          "name": "stdout",
          "text": [
            "Spearman correlation matrix:\n",
            "DenseMatrix([[1.        , 0.88717607],\n",
            "             [0.88717607, 1.        ]])\n"
          ]
        },
        {
          "output_type": "stream",
          "name": "stderr",
          "text": [
            "/usr/local/lib/python3.7/dist-packages/pyspark/sql/context.py:127: FutureWarning: Deprecated in 3.0.0. Use SparkSession.builder.getOrCreate() instead.\n",
            "  FutureWarning\n"
          ]
        }
      ]
    },
    {
      "cell_type": "code",
      "source": [
        ""
      ],
      "metadata": {
        "id": "zR7NHz2nTZXA"
      },
      "execution_count": null,
      "outputs": []
    },
    {
      "cell_type": "markdown",
      "source": [
        "Normalice las funciones de entrenamiento utilizando la norma L2 del vector de funciones (ver sección de Normalización)"
      ],
      "metadata": {
        "id": "FQHI7-uhIhkT"
      }
    },
    {
      "cell_type": "code",
      "source": [
        "# Escriba su respuesta aquí:"
      ],
      "metadata": {
        "id": "QFFY359YI0FK"
      },
      "execution_count": null,
      "outputs": []
    },
    {
      "cell_type": "code",
      "source": [
        "normalizer = Normalizer(inputCol=\"features\", outputCol=\"features_normalized\", p=1.0)\n",
        "test_norm = normalizer.transform(test)\n",
        "print(\"Normalized using L^2 norm\")\n",
        "test_norm.show(5, truncate=False)"
      ],
      "metadata": {
        "colab": {
          "base_uri": "https://localhost:8080/"
        },
        "id": "Plp0p8vcTm7u",
        "outputId": "8c17265c-29b8-49d6-f111-bea12977abb0"
      },
      "execution_count": 57,
      "outputs": [
        {
          "output_type": "stream",
          "name": "stdout",
          "text": [
            "Normalized using L^2 norm\n",
            "+-------------+----+-----------------------------------------+\n",
            "|features     |mpg |features_normalized                      |\n",
            "+-------------+----+-----------------------------------------+\n",
            "|[46.0,1950.0]|26.0|[0.023046092184368736,0.9769539078156313]|\n",
            "|[49.0,1867.0]|29.0|[0.0255741127348643,0.9744258872651357]  |\n",
            "|[52.0,1649.0]|31.0|[0.030570252792475015,0.969429747207525] |\n",
            "|[53.0,1795.0]|33.0|[0.02867965367965368,0.9713203463203464] |\n",
            "|[54.0,2254.0]|23.0|[0.02339688041594454,0.9766031195840554] |\n",
            "+-------------+----+-----------------------------------------+\n",
            "only showing top 5 rows\n",
            "\n"
          ]
        }
      ]
    },
    {
      "cell_type": "markdown",
      "source": [
        "Repita el entrenamiento del modelo (Actividad 4) pero estra vez con el modelo obtenido en el punto anterior, por otras 100 iteraciones e informe los coeficientes."
      ],
      "metadata": {
        "id": "w2tOYw5kJTaD"
      }
    },
    {
      "cell_type": "code",
      "source": [
        "# Escriba su respuesta aquí"
      ],
      "metadata": {
        "id": "L6NMfzOCJS_j"
      },
      "execution_count": null,
      "outputs": []
    },
    {
      "cell_type": "code",
      "source": [
        "# Creando un modelo de regresión\n",
        "lr1 = LinearRegression(featuresCol='features_scaled', labelCol='mpg', maxIter=100)\n",
        "\n",
        "# Fitting\n",
        "lrModel1 = lr1.fit(test_scaled)\n",
        "\n",
        "# Coeficientes e interceptos de la regresión lineal\n",
        "print(\"Coefficients: %s\" % str(lrModel1.coefficients))\n",
        "print(\"Intercept: %s\" % str(lrModel1.intercept))\n",
        "\n",
        "# Sumarizando el modelo e imprimiendo algunas métricas\n",
        "trainingSummary = lrModel1.summary\n",
        "#trainingSummary.residuals.show()\n",
        "print(\"RMSE: %f\" % trainingSummary.rootMeanSquaredError)\n",
        "print(\"R-squared: %f\" % trainingSummary.r2)"
      ],
      "metadata": {
        "colab": {
          "base_uri": "https://localhost:8080/"
        },
        "id": "gCQ7a2k3Tzh4",
        "outputId": "9f0bc445-c1ee-4404-9569-6741263e37fc"
      },
      "execution_count": 58,
      "outputs": [
        {
          "output_type": "stream",
          "name": "stdout",
          "text": [
            "Coefficients: [-0.6400803911210226,-5.420252822329036]\n",
            "Intercept: 43.407044177210075\n",
            "RMSE: 3.517951\n",
            "R-squared: 0.740134\n"
          ]
        }
      ]
    },
    {
      "cell_type": "code",
      "source": [
        "lrModel1.transform(test_scaled).show(5)"
      ],
      "metadata": {
        "colab": {
          "base_uri": "https://localhost:8080/"
        },
        "id": "gDYtFAD4U5n0",
        "outputId": "70e7298d-0dee-4513-f50d-c77269324898"
      },
      "execution_count": 59,
      "outputs": [
        {
          "output_type": "stream",
          "name": "stdout",
          "text": [
            "+-------------+----+--------------------+------------------+\n",
            "|     features| mpg|     features_scaled|        prediction|\n",
            "+-------------+----+--------------------+------------------+\n",
            "|[46.0,1950.0]|26.0|[1.21377780149079...|30.237371881324897|\n",
            "|[49.0,1867.0]|29.0|[1.29293722332715...|30.714190064484075|\n",
            "|[52.0,1649.0]|31.0|[1.37209664516350...|  32.0489683425183|\n",
            "|[53.0,1795.0]|33.0|[1.39848311910896...| 31.10421092349753|\n",
            "|[54.0,2254.0]|23.0|[1.42486959305441...|28.170257136359055|\n",
            "+-------------+----+--------------------+------------------+\n",
            "only showing top 5 rows\n",
            "\n"
          ]
        }
      ]
    },
    {
      "cell_type": "markdown",
      "source": [
        ""
      ],
      "metadata": {
        "id": "aT6BeQirU5dG"
      }
    },
    {
      "cell_type": "code",
      "source": [
        "from google.colab import drive\n",
        "drive.mount('/content/drive')"
      ],
      "metadata": {
        "id": "CBIS4R4QbeRj"
      },
      "execution_count": null,
      "outputs": []
    },
    {
      "cell_type": "markdown",
      "source": [
        "### Pregunta 3: ¿Hay cambios en los resultados de los coeficientes? ¿Qué modelo es mejor? Explique su respuesta"
      ],
      "metadata": {
        "id": "8hm-tBIKKM3T"
      }
    },
    {
      "cell_type": "markdown",
      "source": [
        " Su respuesta: en el modelo primero teine estos coeficientesCoefficients: [-2.2368230006075667,-4.815103456715116]---,  en el de prueba tienen estos Coefficients: [-0.6400803911210226,-5.420252822329036], si hay cambios.\n",
        "\n",
        " En los modelos se evidencia métricas diferentes, pero en análisis el segundo modelo es mejor ya que el r cuadrado es más alto con 0.740134"
      ],
      "metadata": {
        "id": "airz52GdKWpE"
      }
    },
    {
      "cell_type": "markdown",
      "source": [
        "# Entregables\n",
        "\n",
        " \n",
        "\n",
        "1.   Resultados de la ejecución de las tareas en PDF\n",
        "2.   Notebook en formato ipynb\n",
        "3.   Si trabajó en grupo indicar el nombre de los integrantes y subir la tarea solo una vez.\n",
        "\n"
      ],
      "metadata": {
        "id": "at0ffLIWKaLl"
      }
    },
    {
      "cell_type": "markdown",
      "source": [
        "###AUTORES: JAVIER CEVALLOS"
      ],
      "metadata": {
        "id": "4eE5eN3wKfN5"
      }
    },
    {
      "cell_type": "markdown",
      "source": [
        "*Referencias:*\n",
        "\n",
        "*Introduction to Big Data with Spark and Hadoop, Coursera course by IBM* "
      ],
      "metadata": {
        "id": "bB8UEgK-KeO0"
      }
    }
  ]
}